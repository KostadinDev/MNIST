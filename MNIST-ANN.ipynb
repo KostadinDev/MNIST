{
 "cells": [
  {
   "cell_type": "code",
   "execution_count": 5,
   "metadata": {},
   "outputs": [],
   "source": [
    "import torch\n",
    "import torch.nn as nn\n",
    "import torchvision.datasets as datasets\n",
    "import torchvision.transforms as transforms\n",
    "from torch.autograd import Variable\n",
    "from torchvision.datasets import MNIST"
   ]
  },
  {
   "cell_type": "code",
   "execution_count": 2,
   "metadata": {},
   "outputs": [],
   "source": [
    "input_size = 784\n",
    "hidden_size = 400\n",
    "out_size = 10\n",
    "epochs = 10\n",
    "batch_size = 100\n",
    "learning_rate = 0.001"
   ]
  },
  {
   "cell_type": "code",
   "execution_count": 11,
   "metadata": {},
   "outputs": [
    {
     "name": "stdout",
     "output_type": "stream",
     "text": [
      "Downloading http://yann.lecun.com/exdb/mnist/train-images-idx3-ubyte.gz to ./data\\MNIST\\raw\\train-images-idx3-ubyte.gz\n"
     ]
    },
    {
     "data": {
      "application/vnd.jupyter.widget-view+json": {
       "model_id": "b760a73a546340a0adf5b8310ffeb9a9",
       "version_major": 2,
       "version_minor": 0
      },
      "text/plain": [
       "HBox(children=(FloatProgress(value=1.0, bar_style='info', max=1.0), HTML(value='')))"
      ]
     },
     "metadata": {},
     "output_type": "display_data"
    },
    {
     "name": "stdout",
     "output_type": "stream",
     "text": [
      "Extracting ./data\\MNIST\\raw\\train-images-idx3-ubyte.gz to ./data\\MNIST\\raw\n",
      "Downloading http://yann.lecun.com/exdb/mnist/train-labels-idx1-ubyte.gz to ./data\\MNIST\\raw\\train-labels-idx1-ubyte.gz\n"
     ]
    },
    {
     "data": {
      "application/vnd.jupyter.widget-view+json": {
       "model_id": "16f573a8b47946469790cefeee98c8a9",
       "version_major": 2,
       "version_minor": 0
      },
      "text/plain": [
       "HBox(children=(FloatProgress(value=1.0, bar_style='info', max=1.0), HTML(value='')))"
      ]
     },
     "metadata": {},
     "output_type": "display_data"
    },
    {
     "name": "stdout",
     "output_type": "stream",
     "text": [
      "Extracting ./data\\MNIST\\raw\\train-labels-idx1-ubyte.gz to ./data\\MNIST\\raw\n",
      "Downloading http://yann.lecun.com/exdb/mnist/t10k-images-idx3-ubyte.gz to ./data\\MNIST\\raw\\t10k-images-idx3-ubyte.gz\n",
      "\n"
     ]
    },
    {
     "data": {
      "application/vnd.jupyter.widget-view+json": {
       "model_id": "547ff0327d8a4770b9eb0549b7bcaf3c",
       "version_major": 2,
       "version_minor": 0
      },
      "text/plain": [
       "HBox(children=(FloatProgress(value=1.0, bar_style='info', max=1.0), HTML(value='')))"
      ]
     },
     "metadata": {},
     "output_type": "display_data"
    },
    {
     "name": "stdout",
     "output_type": "stream",
     "text": [
      "Extracting ./data\\MNIST\\raw\\t10k-images-idx3-ubyte.gz to ./data\\MNIST\\raw\n",
      "Downloading http://yann.lecun.com/exdb/mnist/t10k-labels-idx1-ubyte.gz to ./data\\MNIST\\raw\\t10k-labels-idx1-ubyte.gz\n"
     ]
    },
    {
     "data": {
      "application/vnd.jupyter.widget-view+json": {
       "model_id": "0048694bfadb448bb033652d44037b0d",
       "version_major": 2,
       "version_minor": 0
      },
      "text/plain": [
       "HBox(children=(FloatProgress(value=1.0, bar_style='info', max=1.0), HTML(value='')))"
      ]
     },
     "metadata": {},
     "output_type": "display_data"
    },
    {
     "name": "stdout",
     "output_type": "stream",
     "text": [
      "Extracting ./data\\MNIST\\raw\\t10k-labels-idx1-ubyte.gz to ./data\\MNIST\\raw\n",
      "Processing...\n",
      "Done!\n"
     ]
    }
   ],
   "source": [
    "train_data = MNIST(root = './data', train=True, download=True, transform=transforms.ToTensor())\n",
    "test_data = MNIST(root = './data', train=False, download=True, transform=transforms.ToTensor())"
   ]
  },
  {
   "cell_type": "code",
   "execution_count": 17,
   "metadata": {},
   "outputs": [],
   "source": [
    "train_loader = torch.utils.data.DataLoader(dataset = train_data, batch_size = batch_size, shuffle = True)\n",
    "test_loader = torch.utils.data.DataLoader(dataset = test_data, batch_size = batch_size, shuffle = False)\n"
   ]
  },
  {
   "cell_type": "code",
   "execution_count": 20,
   "metadata": {},
   "outputs": [],
   "source": [
    "class Net(nn.Module):\n",
    "    def __init__(self, input_size, hidden_size, out_size):\n",
    "        super(Net, self).__init__()\n",
    "        self.fc1 = nn.Linear(input_size, hidden_size)\n",
    "        self.fc2 = nn.Linear(hidden_size, hidden_size)\n",
    "        self.fc3 = nn.Linear(hidden_size, out_size)\n",
    "        self.relu = nn.ReLU()\n",
    "    \n",
    "    def forward(self, x):\n",
    "        out = self.fc1(x)\n",
    "        out = self.relu(out)\n",
    "        out = self.fc2(out)\n",
    "        out = self.relu(out)\n",
    "        out = self.fc3(out)\n",
    "        return out\n",
    "        "
   ]
  },
  {
   "cell_type": "code",
   "execution_count": 21,
   "metadata": {},
   "outputs": [],
   "source": [
    "net = Net(input_size, hidden_size, out_size)\n",
    "CUDA = torch.cuda.is_available()\n",
    "if CUDA:\n",
    "    net = net.cuda()\n",
    "criterion = nn.CrossEntropyLoss()\n",
    "optimizer = torch.optim.Adam(net.parameters(), lr = learning_rate)"
   ]
  },
  {
   "cell_type": "code",
   "execution_count": 34,
   "metadata": {},
   "outputs": [
    {
     "name": "stdout",
     "output_type": "stream",
     "text": [
      "Epoch 0/10, Iteration 99/600, Loss: 0.09102413058280945, Accuracy: 0.9997\n",
      "Epoch 0/10, Iteration 199/600, Loss: 8.306503332278226e-06, Accuracy: 0.99965\n",
      "Epoch 0/10, Iteration 299/600, Loss: 0.00046574592124670744, Accuracy: 0.9996\n",
      "Epoch 0/10, Iteration 399/600, Loss: 0.0003614187298808247, Accuracy: 0.99965\n",
      "Epoch 0/10, Iteration 499/600, Loss: 0.0007773446850478649, Accuracy: 0.99954\n",
      "Epoch 0/10, Iteration 599/600, Loss: 2.9277800877025584e-06, Accuracy: 0.9995666666666667\n",
      "Epoch 1/10, Iteration 99/600, Loss: 4.974365219823085e-05, Accuracy: 0.9995857142857143\n",
      "Epoch 1/10, Iteration 199/600, Loss: 0.0046136523596942425, Accuracy: 0.9995875\n",
      "Epoch 1/10, Iteration 299/600, Loss: 6.0558319091796875e-05, Accuracy: 0.9994888888888889\n",
      "Epoch 1/10, Iteration 399/600, Loss: 0.023129180073738098, Accuracy: 0.9994\n",
      "Epoch 1/10, Iteration 499/600, Loss: 0.0023356007877737284, Accuracy: 0.9991727272727273\n",
      "Epoch 1/10, Iteration 599/600, Loss: 3.947257937397808e-05, Accuracy: 0.9989083333333333\n",
      "Epoch 2/10, Iteration 99/600, Loss: 1.654148036323022e-05, Accuracy: 0.9988\n",
      "Epoch 2/10, Iteration 199/600, Loss: 3.824234227067791e-06, Accuracy: 0.9986571428571429\n",
      "Epoch 2/10, Iteration 299/600, Loss: 0.0021344281267374754, Accuracy: 0.9986533333333333\n",
      "Epoch 2/10, Iteration 399/600, Loss: 0.0002797842025756836, Accuracy: 0.99865625\n",
      "Epoch 2/10, Iteration 499/600, Loss: 0.0014952468918636441, Accuracy: 0.9986294117647059\n",
      "Epoch 2/10, Iteration 599/600, Loss: 0.002138691022992134, Accuracy: 0.9986277777777778\n",
      "Epoch 3/10, Iteration 99/600, Loss: 0.04984130710363388, Accuracy: 0.9986947368421053\n",
      "Epoch 3/10, Iteration 199/600, Loss: 0.0005608844803646207, Accuracy: 0.99872\n",
      "Epoch 3/10, Iteration 299/600, Loss: 0.00010845661017810926, Accuracy: 0.998752380952381\n",
      "Epoch 3/10, Iteration 399/600, Loss: 0.00011803626694018021, Accuracy: 0.9987818181818182\n",
      "Epoch 3/10, Iteration 499/600, Loss: 0.00020345687516964972, Accuracy: 0.9988260869565218\n",
      "Epoch 3/10, Iteration 599/600, Loss: 0.0011060333345085382, Accuracy: 0.9988291666666667\n",
      "Epoch 4/10, Iteration 99/600, Loss: 2.002715973503655e-06, Accuracy: 0.998836\n",
      "Epoch 4/10, Iteration 199/600, Loss: 0.0020834780298173428, Accuracy: 0.9988423076923076\n",
      "Epoch 4/10, Iteration 299/600, Loss: 0.0007821845938451588, Accuracy: 0.9988037037037037\n",
      "Epoch 4/10, Iteration 399/600, Loss: 2.882957414840348e-05, Accuracy: 0.9987928571428571\n",
      "Epoch 4/10, Iteration 499/600, Loss: 5.273819169815397e-06, Accuracy: 0.9987862068965517\n",
      "Epoch 4/10, Iteration 599/600, Loss: 5.095481901662424e-05, Accuracy: 0.9987866666666667\n",
      "Epoch 5/10, Iteration 99/600, Loss: 0.00022628784063272178, Accuracy: 0.9988064516129033\n",
      "Epoch 5/10, Iteration 199/600, Loss: 0.0018916797125712037, Accuracy: 0.9988125\n",
      "Epoch 5/10, Iteration 299/600, Loss: 2.3565291485283524e-05, Accuracy: 0.9988212121212121\n",
      "Epoch 5/10, Iteration 399/600, Loss: 9.632110959501006e-06, Accuracy: 0.998785294117647\n",
      "Epoch 5/10, Iteration 499/600, Loss: 0.0007128286524675786, Accuracy: 0.9987457142857142\n",
      "Epoch 5/10, Iteration 599/600, Loss: 0.014402828179299831, Accuracy: 0.9987305555555556\n",
      "Epoch 6/10, Iteration 99/600, Loss: 2.956390289909905e-06, Accuracy: 0.9987324324324325\n",
      "Epoch 6/10, Iteration 199/600, Loss: 7.843017374398187e-05, Accuracy: 0.9987157894736842\n",
      "Epoch 6/10, Iteration 299/600, Loss: 0.019407372921705246, Accuracy: 0.9987025641025641\n",
      "Epoch 6/10, Iteration 399/600, Loss: 2.910137118306011e-05, Accuracy: 0.998695\n",
      "Epoch 6/10, Iteration 499/600, Loss: 0.00017652512178756297, Accuracy: 0.9986756097560976\n",
      "Epoch 6/10, Iteration 599/600, Loss: 2.0027160019253643e-07, Accuracy: 0.9986904761904762\n",
      "Epoch 7/10, Iteration 99/600, Loss: 7.629394360719743e-08, Accuracy: 0.9987162790697675\n",
      "Epoch 7/10, Iteration 199/600, Loss: 4.614353019860573e-05, Accuracy: 0.9987409090909091\n",
      "Epoch 7/10, Iteration 299/600, Loss: 1.869201696536038e-06, Accuracy: 0.9987555555555555\n",
      "Epoch 7/10, Iteration 399/600, Loss: 0.04466857388615608, Accuracy: 0.9987586956521739\n",
      "Epoch 7/10, Iteration 499/600, Loss: 5.912780807193485e-07, Accuracy: 0.998763829787234\n",
      "Epoch 7/10, Iteration 599/600, Loss: 0.0010807275539264083, Accuracy: 0.9987791666666667\n",
      "Epoch 8/10, Iteration 99/600, Loss: 0.00022312640794552863, Accuracy: 0.9987959183673469\n",
      "Epoch 8/10, Iteration 199/600, Loss: 0.0005544185405597091, Accuracy: 0.998808\n",
      "Epoch 8/10, Iteration 299/600, Loss: 3.4046172459056834e-06, Accuracy: 0.9988156862745098\n",
      "Epoch 8/10, Iteration 399/600, Loss: 0.06430957466363907, Accuracy: 0.9988173076923077\n",
      "Epoch 8/10, Iteration 499/600, Loss: 4.8260688345180824e-05, Accuracy: 0.9988150943396227\n",
      "Epoch 8/10, Iteration 599/600, Loss: 1.3351440202313825e-06, Accuracy: 0.9988074074074074\n",
      "Epoch 9/10, Iteration 99/600, Loss: 0.00011538982653291896, Accuracy: 0.9988\n",
      "Epoch 9/10, Iteration 199/600, Loss: 0.05384567379951477, Accuracy: 0.9987982142857142\n",
      "Epoch 9/10, Iteration 299/600, Loss: 4.444122168933973e-06, Accuracy: 0.9988052631578948\n",
      "Epoch 9/10, Iteration 399/600, Loss: 4.482269275740691e-07, Accuracy: 0.9988172413793104\n",
      "Epoch 9/10, Iteration 499/600, Loss: 2.1266937437758315e-06, Accuracy: 0.998822033898305\n",
      "Epoch 9/10, Iteration 599/600, Loss: 1.0986328561557457e-05, Accuracy: 0.99882\n"
     ]
    }
   ],
   "source": [
    "correct_train = 0\n",
    "total_train = 0\n",
    "for epoch in range(epochs):\n",
    "    for i, (images, labels) in enumerate(train_loader):\n",
    "        images = Variable(images.view(-1, 28*28))\n",
    "        labels = Variable(labels)\n",
    "        if CUDA:\n",
    "            images = images.cuda()\n",
    "            labels = labels.cuda()\n",
    "        optimizer.zero_grad()\n",
    "        outputs = net(images)\n",
    "        _, predicted = torch.max(outputs.data, 1)\n",
    "        \n",
    "        total_train +=labels.size(0)\n",
    "        if CUDA:\n",
    "            correct_train+= (predicted.cpu() == labels.cpu()).sum()\n",
    "        else:\n",
    "            correct_train+= (predicted == labels).sum()\n",
    "        loss = criterion(outputs, labels)\n",
    "        loss.backward()\n",
    "        optimizer.step()\n",
    "        if (i+1)%100 ==0:\n",
    "            print(f\"Epoch {epoch}/{epochs}, Iteration {i}/{len(train_data)//batch_size}, Loss: {loss.data}, Accuracy: {float(correct_train)/float(total_train)}\")"
   ]
  },
  {
   "cell_type": "code",
   "execution_count": 36,
   "metadata": {},
   "outputs": [
    {
     "data": {
      "text/plain": [
       "100"
      ]
     },
     "execution_count": 36,
     "metadata": {},
     "output_type": "execute_result"
    }
   ],
   "source": [
    "labels.size(0)"
   ]
  },
  {
   "cell_type": "code",
   "execution_count": 37,
   "metadata": {},
   "outputs": [
    {
     "name": "stdout",
     "output_type": "stream",
     "text": [
      "Accuracy: 0.9832\n"
     ]
    }
   ],
   "source": [
    "# Testing\n",
    "correct = 0\n",
    "total = 0\n",
    "for images, labels in test_loader:\n",
    "    images = Variable(images.view(-1, 28*28))\n",
    "    if CUDA:\n",
    "        images = images.cuda()\n",
    "        \n",
    "    outputs = net(images)\n",
    "    _, predicted = torch.max(outputs.data, 1)\n",
    "    total+=labels.size(0)\n",
    "    \n",
    "    if CUDA:\n",
    "        correct += (predicted.cpu() == labels.cpu()).sum()\n",
    "    else:\n",
    "        correct += (predicted == labels).sum()\n",
    "\n",
    "print(f\"Accuracy: {float(correct)/ float(total)}\")"
   ]
  },
  {
   "cell_type": "code",
   "execution_count": null,
   "metadata": {},
   "outputs": [],
   "source": []
  }
 ],
 "metadata": {
  "kernelspec": {
   "display_name": "Python 3",
   "language": "python",
   "name": "python3"
  },
  "language_info": {
   "codemirror_mode": {
    "name": "ipython",
    "version": 3
   },
   "file_extension": ".py",
   "mimetype": "text/x-python",
   "name": "python",
   "nbconvert_exporter": "python",
   "pygments_lexer": "ipython3",
   "version": "3.8.3"
  }
 },
 "nbformat": 4,
 "nbformat_minor": 4
}
